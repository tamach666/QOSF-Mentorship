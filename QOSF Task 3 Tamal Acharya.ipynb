{
 "cells": [
  {
   "cell_type": "markdown",
   "metadata": {},
   "source": [
    "# Task: Quantum Circuit Simulator"
   ]
  },
  {
   "cell_type": "code",
   "execution_count": 1,
   "metadata": {},
   "outputs": [],
   "source": [
    "# Qubit in |0> state (100% probability of measuring 0)\n",
    "q0 = [1, 0]\n",
    "\n",
    "# Qubit in |1> state (100% probability of measuring 1)\n",
    "q1 = [0, 1] \n",
    "\n",
    "# Qubit |+> state (superposition: 50% probability of measuring 0 and 50% probability of measuring 1)\n",
    "q2 = [0.7071067811865475, 0.7071067811865475]\n",
    "\n",
    "# Qubit |-> state (superposition: 50% probability of measuring 0 and 50% probability of measuring 1) with phase pi\n",
    "q3 = [0.7071067811865475, -0.7071067811865475]\n",
    "\n",
    "# Qubit |i> state (superposition: 50% probability of measuring 0 and 50% probability of measuring 1) with phase pi/2\n",
    "q3 = [0.7071067811865475, 0+0.7071067811865475j]\n",
    "\n",
    "# Qubit |-i> state (superposition: 50% probability of measuring 0 and 50% probability of measuring 1) with phase -pi/2\n",
    "q4 = [0.7071067811865475, 0-0.7071067811865475j]"
   ]
  },
  {
   "cell_type": "code",
   "execution_count": 2,
   "metadata": {},
   "outputs": [
    {
     "name": "stdout",
     "output_type": "stream",
     "text": [
      "[0.5 0.5]\n"
     ]
    }
   ],
   "source": [
    "import numpy as np\n",
    "\n",
    "q4 = np.array([0.7071067811865475+0j, 0-0.7071067811865475j])\n",
    "p4 = np.abs(q4)**2\n",
    "print(p4)"
   ]
  },
  {
   "cell_type": "code",
   "execution_count": 3,
   "metadata": {},
   "outputs": [
    {
     "name": "stdout",
     "output_type": "stream",
     "text": [
      "[0 1 0 0]\n"
     ]
    }
   ],
   "source": [
    "#State vector\n",
    "# Qubit in |0> state (100% probability of measuring 0)\n",
    "q0 = [1, 0]\n",
    "\n",
    "# Qubit in |1> state (100% probability of measuring 1)\n",
    "q1 = [0, 1] \n",
    "\n",
    "combined_state = np.kron(q0, q1)\n",
    "\n",
    "print(combined_state)"
   ]
  },
  {
   "cell_type": "code",
   "execution_count": 4,
   "metadata": {},
   "outputs": [
    {
     "name": "stdout",
     "output_type": "stream",
     "text": [
      "Initial state:\t [1 0]\n",
      "Final state:\t [0 1]\n"
     ]
    }
   ],
   "source": [
    "import numpy as np\n",
    "\n",
    "# Let's start with qubit in state |0> (100% probability of measuring 0)   \n",
    "\n",
    "q0 = np.array([1, 0])\n",
    "\n",
    "print(\"Initial state:\\t\", q0)\n",
    "\n",
    "# Define X (NOT) gate:\n",
    "\n",
    "X = np.array([\n",
    "[0, 1],\n",
    "[1, 0]\n",
    "])\n",
    "\n",
    "# Now apply X gate to a qubit (matrix-vector dot product):\n",
    "\n",
    "q0 = np.dot(X, q0)\n",
    "\n",
    "print(\"Final state:\\t\", q0)"
   ]
  },
  {
   "cell_type": "code",
   "execution_count": 5,
   "metadata": {},
   "outputs": [
    {
     "name": "stdout",
     "output_type": "stream",
     "text": [
      "Initial state:\t [1 0]\n",
      "Final state:\t [0.70710678 0.70710678]\n"
     ]
    }
   ],
   "source": [
    "import numpy as np\n",
    "\n",
    "# Let's start with qubit in state |0> (100% probability of measuring 0)\n",
    "    \n",
    "q0 = np.array([1, 0])\n",
    "\n",
    "print(\"Initial state:\\t\", q0)\n",
    "\n",
    "# Define H (Hadamard) gate:\n",
    "\n",
    "H = np.array([\n",
    "[1/np.sqrt(2), 1/np.sqrt(2)],\n",
    "[1/np.sqrt(2), -1/np.sqrt(2)]\n",
    "])\n",
    "\n",
    "# Now apply H gate to a qubit (matrix-vector dot product):\n",
    "\n",
    "q0 = np.dot(H, q0)\n",
    "\n",
    "print(\"Final state:\\t\", q0)"
   ]
  },
  {
   "cell_type": "code",
   "execution_count": 6,
   "metadata": {},
   "outputs": [
    {
     "name": "stdout",
     "output_type": "stream",
     "text": [
      "Initial state: [1, 0, 0, 0, 0, 0, 0, 0]\n",
      "\n",
      "Operator:\n",
      "\n",
      " [[0. 1. 0. 0. 0. 0. 0. 0.]\n",
      " [1. 0. 0. 0. 0. 0. 0. 0.]\n",
      " [0. 0. 0. 1. 0. 0. 0. 0.]\n",
      " [0. 0. 1. 0. 0. 0. 0. 0.]\n",
      " [0. 0. 0. 0. 0. 1. 0. 0.]\n",
      " [0. 0. 0. 0. 1. 0. 0. 0.]\n",
      " [0. 0. 0. 0. 0. 0. 0. 1.]\n",
      " [0. 0. 0. 0. 0. 0. 1. 0.]] \n",
      "\n",
      "Final state: [0. 1. 0. 0. 0. 0. 0. 0.]\n"
     ]
    }
   ],
   "source": [
    "import numpy as np\n",
    "\n",
    "# Let's define state vector of the 3-qubit circuit in \"ground state\" (all qubits in state |0>)\n",
    "\n",
    "psi = [1, 0, 0, 0, 0, 0, 0, 0]\n",
    "print(\"Initial state:\", psi)\n",
    "\n",
    "\n",
    "# Define X (NOT) gate:\n",
    "\n",
    "X = np.array([\n",
    "[0, 1],\n",
    "[1, 0]\n",
    "])\n",
    "\n",
    "# Define 2x2 identity\n",
    "\n",
    "I = np.identity(2)\n",
    "\n",
    "# Calculate operator for X gate acting on third qubit in 3-qubit circuit\n",
    "\n",
    "O = np.kron(np.kron(I, I), X)\n",
    "\n",
    "print(\"\\nOperator:\\n\\n\", O, \"\\n\")\n",
    "\n",
    "\n",
    "# And finally, apply operator\n",
    "\n",
    "psi = np.dot(psi, O)\n",
    "print(\"Final state:\", psi)"
   ]
  },
  {
   "cell_type": "code",
   "execution_count": 7,
   "metadata": {},
   "outputs": [
    {
     "name": "stdout",
     "output_type": "stream",
     "text": [
      "CNOT(0, 2) for 3-qubit circuit, operator is:\n",
      "\n",
      "[[1. 0. 0. 0. 0. 0. 0. 0.]\n",
      " [0. 1. 0. 0. 0. 0. 0. 0.]\n",
      " [0. 0. 1. 0. 0. 0. 0. 0.]\n",
      " [0. 0. 0. 1. 0. 0. 0. 0.]\n",
      " [0. 0. 0. 0. 0. 1. 0. 0.]\n",
      " [0. 0. 0. 0. 1. 0. 0. 0.]\n",
      " [0. 0. 0. 0. 0. 0. 0. 1.]\n",
      " [0. 0. 0. 0. 0. 0. 1. 0.]]\n"
     ]
    }
   ],
   "source": [
    "import numpy as np\n",
    "\n",
    "# Define X gate (CNOT is controlled-X):\n",
    "\n",
    "X = np.array([\n",
    "[0, 1],\n",
    "[1, 0]\n",
    "])\n",
    "\n",
    "# Define 2x2 Identity\n",
    "\n",
    "I = np.identity(2)\n",
    "\n",
    "\n",
    "# Define projection operator |0><0|\n",
    "\n",
    "P0x0 = np.array([\n",
    "[1, 0],\n",
    "[0, 0]\n",
    "])\n",
    "\n",
    "# Define projection operator |1><1|\n",
    "\n",
    "P1x1 = np.array([\n",
    "[0, 0],\n",
    "[0, 1]\n",
    "])\n",
    "\n",
    "# And now calculate our operator:\n",
    "\n",
    "O = np.kron(np.kron(P0x0, I), I) + np.kron(np.kron(P1x1, I), X)\n",
    "\n",
    "print(\"CNOT(0, 2) for 3-qubit circuit, operator is:\\n\")\n",
    "print(O)"
   ]
  },
  {
   "cell_type": "code",
   "execution_count": 18,
   "metadata": {},
   "outputs": [],
   "source": [
    "def get_ground_state(num_qubits):\n",
    "#Simulator program\n",
    "    # return vector of size 2**num_qubits with all zeroes except first element which is 1\n",
    "    return\n",
    "\n",
    "def get_operator(total_qubits, gate_unitary, target_qubits):\n",
    "    # return unitary operator of size 2**n x 2**n for given gate and target qubits\n",
    "    return\n",
    "\n",
    "def run_program(initial_state, program):\n",
    "    # read program, and for each gate:\n",
    "    #   - calculate matrix operator\n",
    "    #   - multiply state with operator\n",
    "    # return final state\n",
    "    return\n",
    "\n",
    "def measure_all(state_vector):\n",
    "    # choose element from state_vector using weighted random and return it's index\n",
    "    return\n",
    "\n",
    "def get_counts(state_vector, num_shots):\n",
    "    # simply execute measure_all in a loop num_shots times and\n",
    "    # return object with statistics in following form:\n",
    "    #   {\n",
    "    #      element_index: number_of_ocurrences,\n",
    "    #      element_index: number_of_ocurrences,\n",
    "    #      element_index: number_of_ocurrences,\n",
    "    #      ...\n",
    "    #   }\n",
    "    # (only for elements which occoured - returned from measure_all)\n",
    "    return"
   ]
  },
  {
   "cell_type": "code",
   "execution_count": 19,
   "metadata": {},
   "outputs": [
    {
     "name": "stdout",
     "output_type": "stream",
     "text": [
      "None\n"
     ]
    }
   ],
   "source": [
    "# Define program:\n",
    "\n",
    "my_circuit = [\n",
    "{ \"gate\": \"h\", \"target\": [0] }, \n",
    "{ \"gate\": \"cx\", \"target\": [0, 1] }\n",
    "]\n",
    "\n",
    "\n",
    "# Create \"quantum computer\" with 2 qubits (this is actually just a vector :) )\n",
    "\n",
    "my_qpu = get_ground_state(2)\n",
    "\n",
    "\n",
    "# Run circuit\n",
    "\n",
    "final_state = run_program(my_qpu, my_circuit)\n",
    "\n",
    "#Measure circuit\n",
    "\n",
    "#measure_alll = measure_all(final_state)\n",
    "\n",
    "# Read results\n",
    "\n",
    "counts = get_counts(final_state, 1000)\n",
    "\n",
    "print(counts)\n",
    "\n",
    "# Should print something like:\n",
    "# {\n",
    "#   \"00\": 502,\n",
    "#   \"11\": 498\n",
    "# }"
   ]
  },
  {
   "cell_type": "code",
   "execution_count": 14,
   "metadata": {},
   "outputs": [
    {
     "name": "stdout",
     "output_type": "stream",
     "text": [
      "None\n"
     ]
    }
   ],
   "source": [
    "# Define program:\n",
    "\n",
    "my_circuit = [\n",
    "  { \"unitary\": [[0.70710678, 0.70710678], [0.70710678, -0.70710678]], \"target\": [0] }, \n",
    "  { \"unitary\": [ [1, 0, 0, 0], [0, 1, 0, 0], [0, 0, 0, 1], [0, 0, 1, 0] ], \"target\": [0, 1] }\n",
    "  \n",
    "]\n",
    "\n",
    "\n",
    "# Create \"quantum computer\" with 2 qubits (this is actually just a vector :) )\n",
    "\n",
    "my_qpu = get_ground_state(2)\n",
    "\n",
    "\n",
    "# Run circuit\n",
    "\n",
    "final_state = run_program(my_qpu, my_circuit)\n",
    "\n",
    "\n",
    "# Read results\n",
    "\n",
    "counts = get_counts(final_state, 1000)\n",
    "\n",
    "print(counts)\n",
    "\n",
    "# Should print something like:\n",
    "# {\n",
    "#   \"00\": 502,\n",
    "#   \"11\": 498\n",
    "# }"
   ]
  },
  {
   "cell_type": "code",
   "execution_count": null,
   "metadata": {},
   "outputs": [],
   "source": [
    "#Parametric gates\n",
    "# Define program:\n",
    "\n",
    "my_circuit = [\n",
    "  [\"cos(theta/2)\", \"-exp(i * lambda) * sin(theta / 2)\"],\n",
    "  [\"exp(i * phi) * sin(theta / 2)\", \"exp(i * lambda + i * phi) * cos(theta / 2)\"]\n",
    "]\n",
    "\n",
    "# Create \"quantum computer\" with 2 qubits (this is actually just a vector :) )\n",
    "\n",
    "my_qpu = get_ground_state(2)\n",
    "\n",
    "\n",
    "# Run circuit\n",
    "\n",
    "final_state = run_program(my_qpu, my_circuit)\n",
    "\n",
    "\n",
    "# Read results\n",
    "\n",
    "counts = get_counts(final_state, 1000)\n",
    "\n",
    "print(counts)\n",
    "\n",
    "# Should print something like:\n",
    "# {\n",
    "#   \"00\": 502,\n",
    "#   \"11\": 498\n",
    "# }"
   ]
  },
  {
   "cell_type": "code",
   "execution_count": null,
   "metadata": {},
   "outputs": [],
   "source": [
    "#Parametric gates\n",
    "# Define program:\n",
    "\n",
    "my_circuit = [\n",
    "  { \"unitary\": [[\"cos(theta/2)\", \"-exp(i * lambda) * sin(theta / 2)\"], [\"exp(i * phi) * sin(theta / 2)\", \"exp(i * lambda + i * phi) * cos(theta / 2)\"]], \"params\": { \"theta\": 3.1415, \"phi\": 1.15708, \"lambda\": -3.1415 }, \"target\": [0] }\n",
    "  \n",
    "]\n",
    "# Create \"quantum computer\" with 2 qubits (this is actually just a vector :) )\n",
    "\n",
    "my_qpu = get_ground_state(2)\n",
    "\n",
    "\n",
    "# Run circuit\n",
    "\n",
    "final_state = run_program(my_qpu, my_circuit)\n",
    "\n",
    "\n",
    "# Read results\n",
    "\n",
    "counts = get_counts(final_state, 1000)\n",
    "\n",
    "print(counts)\n",
    "\n",
    "# Should print something like:\n",
    "# {\n",
    "#   \"00\": 502,\n",
    "#   \"11\": 498\n",
    "# }"
   ]
  },
  {
   "cell_type": "code",
   "execution_count": null,
   "metadata": {},
   "outputs": [],
   "source": [
    "#Parametric gates\n",
    "# Define program:\n",
    "\n",
    "my_circuit = [\n",
    "  { \"gate\": \"u3\", \"params\": { \"theta\": 3.1415, \"phi\": 1.5708, \"lambda\": -3.1415 }, \"target\": [0] }\n",
    "  \n",
    "]\n",
    "# Create \"quantum computer\" with 2 qubits (this is actually just a vector :) )\n",
    "\n",
    "my_qpu = get_ground_state(2)\n",
    "\n",
    "\n",
    "# Run circuit\n",
    "\n",
    "final_state = run_program(my_qpu, my_circuit)\n",
    "\n",
    "\n",
    "# Read results\n",
    "\n",
    "counts = get_counts(final_state, 1000)\n",
    "\n",
    "print(counts)\n",
    "\n",
    "# Should print something like:\n",
    "# {\n",
    "#   \"00\": 502,\n",
    "#   \"11\": 498\n",
    "# }"
   ]
  },
  {
   "cell_type": "code",
   "execution_count": null,
   "metadata": {},
   "outputs": [],
   "source": [
    "#Allow running variational quantum algorithms\n",
    "#Parametric gates\n",
    "# Define program:\n",
    "\n",
    "my_circuit = [\n",
    "  { \"gate\": \"u3\", \"params\": { \"theta\": \"global_1\", \"phi\": \"global_2\", \"lambda\": -3.1415 }, \"target\": [0] }\n",
    "  \n",
    "]\n",
    "# Create \"quantum computer\" with 2 qubits (this is actually just a vector :) )\n",
    "\n",
    "my_qpu = get_ground_state(2)\n",
    "\n",
    "\n",
    "# Run circuit\n",
    "\n",
    "final_state = run_program(my_qpu, my_circuit, { \"global_1\": 3.1415, \"global_2\": 1.5708 })\n",
    "\n",
    "\n",
    "# Read results\n",
    "\n",
    "counts = get_counts(final_state, 1000)\n",
    "\n",
    "print(counts)\n",
    "\n",
    "def objective_function(params):\n",
    "    final_state = run_program(my_qpu, my_circuit, { \"global_1\": params[0], \"global_2\": params[1] })\n",
    "\n",
    "    counts = get_counts(final_state, 1000)\n",
    "\n",
    "    # ...calculate cost here...\n",
    "\n",
    "    return cost\n",
    "\n",
    "# initial values\n",
    "params = np.array([3.1415, 1.5708])\n",
    "\n",
    "# minimize\n",
    "minimum = minimize(objective_function, params, method=\"Powell\", tol=1e-6)\n",
    "\n",
    "# Should print something like:\n",
    "# {\n",
    "#   \"00\": 502,\n",
    "#   \"11\": 498\n",
    "# }"
   ]
  },
  {
   "cell_type": "code",
   "execution_count": null,
   "metadata": {},
   "outputs": [],
   "source": []
  }
 ],
 "metadata": {
  "kernelspec": {
   "display_name": "Python 3",
   "language": "python",
   "name": "python3"
  },
  "language_info": {
   "codemirror_mode": {
    "name": "ipython",
    "version": 3
   },
   "file_extension": ".py",
   "mimetype": "text/x-python",
   "name": "python",
   "nbconvert_exporter": "python",
   "pygments_lexer": "ipython3",
   "version": "3.7.9"
  }
 },
 "nbformat": 4,
 "nbformat_minor": 4
}
